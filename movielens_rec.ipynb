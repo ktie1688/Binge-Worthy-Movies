{
 "cells": [
  {
   "cell_type": "markdown",
   "metadata": {},
   "source": [
    "# MovieLens Recommendation System"
   ]
  },
  {
   "cell_type": "markdown",
   "metadata": {},
   "source": [
    "In the age of streaming, it can be overwhelming trying to find the next show to binge on with thousands of titles available at our fingertips. Recommender systems help guide our search by filtering all this information and returning a list of titles according to our preferences. \n",
    "\n",
    "There are 2 types of information filtering are:\n",
    "1. Content Filtering\n",
    "2. Collaborative Filtering (CF)\n",
    "\n",
    "Today's recommender systems implement both methods, making predictions on a user's preferences based on the item's attributes and common preferences among other users."
   ]
  },
  {
   "cell_type": "markdown",
   "metadata": {},
   "source": [
    "# Objective\n",
    "Create a hybridized recommender system that uses content filtering and CF to dynamically recommend titles based on a user's preferences."
   ]
  },
  {
   "cell_type": "markdown",
   "metadata": {},
   "source": [
    "# 1. Imports"
   ]
  },
  {
   "cell_type": "code",
   "execution_count": 1,
   "metadata": {},
   "outputs": [],
   "source": [
    "import pandas as pd\n",
    "import numpy as np\n",
    "\n",
    "# data visualization\n",
    "import matplotlib.pyplot as plt\n",
    "import seaborn as sns\n",
    "\n",
    "# data preprocessing, feature engineering, and similarity\n",
    "from collections import Counter\n",
    "from scipy.sparse import csr_matrix\n",
    "from sklearn.neighbors import NearestNeighbors\n",
    "from sklearn.metrics.pairwise import cosine_similarity\n",
    "from sklearn.decomposition import TruncatedSVD\n",
    "\n",
    "# string matching\n",
    "from fuzzywuzzy import process\n",
    "\n",
    "# hide warnings\n",
    "import warnings\n",
    "warnings.filterwarnings('ignore')"
   ]
  },
  {
   "cell_type": "markdown",
   "metadata": {},
   "source": [
    "# 2. Load Data\n",
    "Dataset: https://grouplens.org/datasets/movielens/"
   ]
  },
  {
   "cell_type": "code",
   "execution_count": 2,
   "metadata": {},
   "outputs": [],
   "source": [
    "movies = pd.read_csv('/Users/kevintie/Desktop/data_projects/projects/movie_rec_project/data/ml-latest-small/movies.csv')\n",
    "ratings = pd.read_csv('/Users/kevintie/Desktop/data_projects/projects/movie_rec_project/data/ml-latest-small/ratings.csv')"
   ]
  },
  {
   "cell_type": "code",
   "execution_count": 3,
   "metadata": {},
   "outputs": [
    {
     "data": {
      "text/html": [
       "<div>\n",
       "<style scoped>\n",
       "    .dataframe tbody tr th:only-of-type {\n",
       "        vertical-align: middle;\n",
       "    }\n",
       "\n",
       "    .dataframe tbody tr th {\n",
       "        vertical-align: top;\n",
       "    }\n",
       "\n",
       "    .dataframe thead th {\n",
       "        text-align: right;\n",
       "    }\n",
       "</style>\n",
       "<table border=\"1\" class=\"dataframe\">\n",
       "  <thead>\n",
       "    <tr style=\"text-align: right;\">\n",
       "      <th></th>\n",
       "      <th>movieId</th>\n",
       "      <th>title</th>\n",
       "      <th>genres</th>\n",
       "    </tr>\n",
       "  </thead>\n",
       "  <tbody>\n",
       "    <tr>\n",
       "      <th>0</th>\n",
       "      <td>1</td>\n",
       "      <td>Toy Story (1995)</td>\n",
       "      <td>Adventure|Animation|Children|Comedy|Fantasy</td>\n",
       "    </tr>\n",
       "    <tr>\n",
       "      <th>1</th>\n",
       "      <td>2</td>\n",
       "      <td>Jumanji (1995)</td>\n",
       "      <td>Adventure|Children|Fantasy</td>\n",
       "    </tr>\n",
       "    <tr>\n",
       "      <th>2</th>\n",
       "      <td>3</td>\n",
       "      <td>Grumpier Old Men (1995)</td>\n",
       "      <td>Comedy|Romance</td>\n",
       "    </tr>\n",
       "    <tr>\n",
       "      <th>3</th>\n",
       "      <td>4</td>\n",
       "      <td>Waiting to Exhale (1995)</td>\n",
       "      <td>Comedy|Drama|Romance</td>\n",
       "    </tr>\n",
       "    <tr>\n",
       "      <th>4</th>\n",
       "      <td>5</td>\n",
       "      <td>Father of the Bride Part II (1995)</td>\n",
       "      <td>Comedy</td>\n",
       "    </tr>\n",
       "  </tbody>\n",
       "</table>\n",
       "</div>"
      ],
      "text/plain": [
       "   movieId                               title  \\\n",
       "0        1                    Toy Story (1995)   \n",
       "1        2                      Jumanji (1995)   \n",
       "2        3             Grumpier Old Men (1995)   \n",
       "3        4            Waiting to Exhale (1995)   \n",
       "4        5  Father of the Bride Part II (1995)   \n",
       "\n",
       "                                        genres  \n",
       "0  Adventure|Animation|Children|Comedy|Fantasy  \n",
       "1                   Adventure|Children|Fantasy  \n",
       "2                               Comedy|Romance  \n",
       "3                         Comedy|Drama|Romance  \n",
       "4                                       Comedy  "
      ]
     },
     "execution_count": 3,
     "metadata": {},
     "output_type": "execute_result"
    }
   ],
   "source": [
    "movies.head()"
   ]
  },
  {
   "cell_type": "code",
   "execution_count": 4,
   "metadata": {},
   "outputs": [
    {
     "data": {
      "text/html": [
       "<div>\n",
       "<style scoped>\n",
       "    .dataframe tbody tr th:only-of-type {\n",
       "        vertical-align: middle;\n",
       "    }\n",
       "\n",
       "    .dataframe tbody tr th {\n",
       "        vertical-align: top;\n",
       "    }\n",
       "\n",
       "    .dataframe thead th {\n",
       "        text-align: right;\n",
       "    }\n",
       "</style>\n",
       "<table border=\"1\" class=\"dataframe\">\n",
       "  <thead>\n",
       "    <tr style=\"text-align: right;\">\n",
       "      <th></th>\n",
       "      <th>userId</th>\n",
       "      <th>movieId</th>\n",
       "      <th>rating</th>\n",
       "      <th>timestamp</th>\n",
       "    </tr>\n",
       "  </thead>\n",
       "  <tbody>\n",
       "    <tr>\n",
       "      <th>0</th>\n",
       "      <td>1</td>\n",
       "      <td>1</td>\n",
       "      <td>4.0</td>\n",
       "      <td>964982703</td>\n",
       "    </tr>\n",
       "    <tr>\n",
       "      <th>1</th>\n",
       "      <td>1</td>\n",
       "      <td>3</td>\n",
       "      <td>4.0</td>\n",
       "      <td>964981247</td>\n",
       "    </tr>\n",
       "    <tr>\n",
       "      <th>2</th>\n",
       "      <td>1</td>\n",
       "      <td>6</td>\n",
       "      <td>4.0</td>\n",
       "      <td>964982224</td>\n",
       "    </tr>\n",
       "    <tr>\n",
       "      <th>3</th>\n",
       "      <td>1</td>\n",
       "      <td>47</td>\n",
       "      <td>5.0</td>\n",
       "      <td>964983815</td>\n",
       "    </tr>\n",
       "    <tr>\n",
       "      <th>4</th>\n",
       "      <td>1</td>\n",
       "      <td>50</td>\n",
       "      <td>5.0</td>\n",
       "      <td>964982931</td>\n",
       "    </tr>\n",
       "  </tbody>\n",
       "</table>\n",
       "</div>"
      ],
      "text/plain": [
       "   userId  movieId  rating  timestamp\n",
       "0       1        1     4.0  964982703\n",
       "1       1        3     4.0  964981247\n",
       "2       1        6     4.0  964982224\n",
       "3       1       47     5.0  964983815\n",
       "4       1       50     5.0  964982931"
      ]
     },
     "execution_count": 4,
     "metadata": {},
     "output_type": "execute_result"
    }
   ],
   "source": [
    "ratings.head()"
   ]
  },
  {
   "cell_type": "markdown",
   "metadata": {},
   "source": [
    "From the data, the key features I will explore further are: rating (collaborate filtering) and genre (content-based filtering)."
   ]
  },
  {
   "cell_type": "markdown",
   "metadata": {},
   "source": [
    "# 3. Data Preprocessing\n",
    "\n",
    "Use collaborative filtering (CF) to recommend titles to users based on similar user preferences. First, transform data into a user-item matrix (utility matrix) where rows represent users and columns represent titles. Each cell in the matrix contains a rating a user gave to a specific movie, which can be used to map different users and titles together."
   ]
  },
  {
   "cell_type": "markdown",
   "metadata": {},
   "source": [
    "First, we need to create a utility matrix $X$ and 4 mapper dictionaries to correspond to each user and movie Id:\n",
    "1. user_mapper: map user Id to user index\n",
    "2. movie_mapper: map movie Id to movie index\n",
    "3. user_inv_mapper: map user index to user Id\n",
    "4. movie_inv_mapper: map movie index to movie Id"
   ]
  },
  {
   "cell_type": "code",
   "execution_count": 5,
   "metadata": {},
   "outputs": [],
   "source": [
    "def create_X(df):\n",
    "    '''\n",
    "\n",
    "    FUNCTION: generate a sparse matrix from the ratings dataframe\n",
    "\n",
    "    ARGS:  \n",
    "    df - ratings dataframe containing movie Id, user Id, and rating columns\n",
    "\n",
    "    RETURN:\n",
    "    X - utility matrix with 4 mapper dictionaries\n",
    "\n",
    "    '''\n",
    "    # store unique user and movie ids into variables\n",
    "    n_user_id = df['userId'].nunique()\n",
    "    n_movie_id = df['movieId'].nunique()\n",
    "\n",
    "    # create mapper dictionaries to label our matrix\n",
    "    user_mapper = dict(zip(np.unique(df['userId']), list(range(n_user_id))))\n",
    "    user_inv_mapper = dict(zip(list(range(n_user_id)), np.unique(df['userId'])))\n",
    "\n",
    "    movie_mapper = dict(zip(np.unique(df['movieId']), list(range(n_movie_id))))\n",
    "    movie_inv_mapper = dict(zip(list(range(n_movie_id)), np.unique(df['movieId'])))\n",
    "\n",
    "    # label mappers for data retrieval\n",
    "    user_index = [user_mapper[i] for i in df['userId']]\n",
    "    item_index = [movie_mapper[i] for i in df['movieId']]\n",
    "\n",
    "    # create matrix X\n",
    "    X = csr_matrix((df['rating'], (user_index, item_index)), shape=(n_user_id, n_movie_id))\n",
    "\n",
    "    # return the created matrix with 4 mapper dictionaries\n",
    "    return X, user_mapper, movie_mapper, user_inv_mapper, movie_inv_mapper"
   ]
  },
  {
   "cell_type": "code",
   "execution_count": 6,
   "metadata": {},
   "outputs": [],
   "source": [
    "# apply function to create matrix X and the 4 mapper dictionaries\n",
    "X, user_mapper, movie_mapper, user_inv_mapper, movie_inv_mapper = create_X(ratings)"
   ]
  },
  {
   "cell_type": "code",
   "execution_count": 7,
   "metadata": {},
   "outputs": [
    {
     "data": {
      "text/plain": [
       "(610, 9724)"
      ]
     },
     "execution_count": 7,
     "metadata": {},
     "output_type": "execute_result"
    }
   ],
   "source": [
    "# overview of matrix X\n",
    "X.shape"
   ]
  },
  {
   "cell_type": "markdown",
   "metadata": {},
   "source": [
    "### Evaluating Sparsity\n",
    "\n",
    "We must now calculate the sparsity of our utility matrix in order to determine whether CF is viable based on our ratings data. For example, if the matrix is too sparse, we don't have enough data for our recommender system to work using CF, and instead, should opt for content filtering.\n",
    "\n",
    "To calculate sparsity, we divide the number non-empty elements (nnz) by the total number of elements in the matrix."
   ]
  },
  {
   "cell_type": "code",
   "execution_count": 8,
   "metadata": {},
   "outputs": [
    {
     "name": "stdout",
     "output_type": "stream",
     "text": [
      "Matrix sparsity: 1.70%\n"
     ]
    }
   ],
   "source": [
    "# calculate matrix sparsity\n",
    "n_total = X.shape[0] * X.shape[1]\n",
    "# nnz = number of ratings in the ratings dataframe\n",
    "nnz = X.nnz\n",
    "sparsity = nnz / n_total\n",
    "\n",
    "print(f'Matrix sparsity: {sparsity * 100:.2f}%')"
   ]
  },
  {
   "cell_type": "markdown",
   "metadata": {},
   "source": [
    "In order for CF to be viable, matrix sparsity typically needs to be above 0.5%. Since our sparsity is 1.7%, CF should work well with our current utility matrix. Next, we should check our dataset for any users and movies with few interactions. This is so we can address what's known as the **cold start problem**, which hinders a recommender system using CF to make proper recommendations due to insufficient data. "
   ]
  },
  {
   "cell_type": "code",
   "execution_count": 9,
   "metadata": {},
   "outputs": [
    {
     "name": "stdout",
     "output_type": "stream",
     "text": [
      "Most active user rated 2698 movies\n",
      "Least active user rated 20 movies\n"
     ]
    }
   ],
   "source": [
    "# set number ratings per user\n",
    "ratings_per_user = X.getnnz(axis=1)\n",
    "\n",
    "# check most and least active users\n",
    "most_active_user = ratings_per_user.max()\n",
    "least_active_user = ratings_per_user.min()\n",
    "\n",
    "print(f'Most active user rated {most_active_user} movies')\n",
    "print(f'Least active user rated {least_active_user} movies')"
   ]
  },
  {
   "cell_type": "code",
   "execution_count": 10,
   "metadata": {},
   "outputs": [
    {
     "name": "stdout",
     "output_type": "stream",
     "text": [
      "Most rated movie has 329 ratings\n",
      "Least rated movie has 1 ratings\n"
     ]
    }
   ],
   "source": [
    "# set number ratings per movie\n",
    "ratings_per_movie = X.getnnz(axis=0)\n",
    "\n",
    "# check most and least rated movies\n",
    "most_rated_movie = ratings_per_movie.max()\n",
    "least_rated_movie = ratings_per_movie.min()\n",
    "\n",
    "print(f'Most rated movie has {most_rated_movie} ratings')\n",
    "print(f'Least rated movie has {least_rated_movie} ratings')"
   ]
  },
  {
   "cell_type": "markdown",
   "metadata": {},
   "source": [
    "### Visualize user and movie interactions"
   ]
  },
  {
   "cell_type": "code",
   "execution_count": 11,
   "metadata": {},
   "outputs": [
    {
     "data": {
      "image/png": "[encoded data removed]",
      "text/plain": [
       "<Figure size 1600x500 with 1 Axes>"
      ]
     },
     "metadata": {},
     "output_type": "display_data"
    },
    {
     "data": {
      "image/png": "[encoded data removed]",
      "text/plain": [
       "<Figure size 1600x500 with 1 Axes>"
      ]
     },
     "metadata": {},
     "output_type": "display_data"
    }
   ],
   "source": [
    "# create user interaction kde subplot 1\n",
    "plt.figure(figsize=(16, 5))\n",
    "plt.subplot(1, 2, 1)\n",
    "sns.kdeplot(ratings_per_user, shade=True)\n",
    "\n",
    "# format subplot 1\n",
    "plt.xlim(0)\n",
    "plt.xlabel('Number of Ratings per User')\n",
    "plt.ylabel('Density')\n",
    "plt.title('Number of Ratings per User')\n",
    "\n",
    "# create movie interaction kde subplot 2\n",
    "plt.figure(figsize=(16, 5))\n",
    "plt.subplot(1, 2, 2)\n",
    "sns.kdeplot(ratings_per_movie, shade=True)\n",
    "\n",
    "# format subplot 2\n",
    "plt.xlim(0)\n",
    "plt.xlabel('Number of Ratings per Movie')\n",
    "plt.ylabel('Density')\n",
    "plt.title('Number of Ratings per Movie')\n",
    "\n",
    "plt.show()"
   ]
  },
  {
   "cell_type": "markdown",
   "metadata": {},
   "source": [
    "Most users rated less than 100 movies and most movies received less than 50 ratings."
   ]
  },
  {
   "cell_type": "markdown",
   "metadata": {},
   "source": [
    "# 5. Make Item to Item Recommendations based on $k$-Nearest Neighbors\n",
    "\n",
    "To make our recommender system actionable, the k-Nearest Neighbors (kNN) model to arrange similar titles based on their cosine similarity scores in the dataset. Cosine similarity is a popular metric used in Natural Language Processing to measure the similarity between context words. Here, we'll find the $k$ movies that have the most similar user interaction vectors with movie $i$."
   ]
  },
  {
   "cell_type": "code",
   "execution_count": 12,
   "metadata": {},
   "outputs": [],
   "source": [
    "# create a function that retrieves k-nearest neighbors of movie i based on cosine similarity scores\n",
    "def rec_movies(movie_id, X, movie_mapper, movie_inv_mapper, k, metric='cosine'):\n",
    "    '''\n",
    "    \n",
    "    FUNCTION: finds k-nearest neighbors of a movie i based on cosine similarity\n",
    "\n",
    "    ARGS:\n",
    "    movie_id - movie id of selected movie\n",
    "    X - utility matrix \n",
    "    movie_mapper - mapper for locating movie in utility matrix\n",
    "    movie_inv_mapper - mapper for locating movie in utility matrix\n",
    "    k - number of similar movies to retrieve\n",
    "    metric - distance metric for kNN calculations\n",
    "\n",
    "    RETURNS:\n",
    "    List of k similar movie Ids\n",
    "\n",
    "    '''\n",
    "\n",
    "    # first, transpose X to set movies as primary axis\n",
    "    X = X.T\n",
    "    # empty neighbor id list to locate similar titles\n",
    "    neighbor_ids = []\n",
    "\n",
    "    # map movie's id over our utility matrix\n",
    "    movie_idx = movie_mapper[movie_id]\n",
    "    movie_vec = X[movie_idx]\n",
    "    if isinstance(movie_vec, (np.ndarray)):\n",
    "        movie_vec = movie_vec.reshape(1, -1)\n",
    "\n",
    "    # use k + 1 since KNN output includes movie id of interest\n",
    "    kNN = NearestNeighbors(n_neighbors=k+1, algorithm='brute', metric=metric)\n",
    "    kNN.fit(X)\n",
    "\n",
    "    # find k neighbors\n",
    "    neighbor = kNN.kneighbors(movie_vec, return_distance=False)\n",
    "    for i in range(0, k):\n",
    "        n = neighbor.item(i)\n",
    "        neighbor_ids.append(movie_inv_mapper[n])\n",
    "    neighbor_ids.pop(0)\n",
    "\n",
    "    return neighbor_ids"
   ]
  },
  {
   "cell_type": "markdown",
   "metadata": {},
   "source": [
    "Apply get similar movies function to movie id 1."
   ]
  },
  {
   "cell_type": "code",
   "execution_count": 13,
   "metadata": {},
   "outputs": [
    {
     "name": "stdout",
     "output_type": "stream",
     "text": [
      "Because you watched Toy Story (1995): \n",
      "['Toy Story 2 (1999)', 'Jurassic Park (1993)', 'Independence Day (a.k.a. ID4) (1996)', 'Star Wars: Episode IV - A New Hope (1977)', 'Forrest Gump (1994)', 'Lion King, The (1994)', 'Star Wars: Episode VI - Return of the Jedi (1983)', 'Mission: Impossible (1996)', 'Groundhog Day (1993)']\n"
     ]
    }
   ],
   "source": [
    "# first, create a movie titles dictionary, so we can match movie Ids with actual movie titles\n",
    "movie_titles = dict(zip(movies['movieId'], movies['title']))\n",
    "\n",
    "# return k neighbor Ids\n",
    "similar_movies = rec_movies(1, X, movie_mapper, movie_inv_mapper, k=10)\n",
    "\n",
    "# retrieve input movie's title\n",
    "movie_title = movie_titles[1]\n",
    "\n",
    "# convert neighbor Ids to movie titles\n",
    "rec_titles = []\n",
    "for i in similar_movies:\n",
    "    rec_titles.append(movie_titles[i])\n",
    "\n",
    "print(f'Because you watched {movie_title}: \\n{rec_titles}')"
   ]
  },
  {
   "cell_type": "markdown",
   "metadata": {},
   "source": [
    "The recommended movies are similar as they're generally known to be family-friendly movies from the '90s."
   ]
  },
  {
   "cell_type": "markdown",
   "metadata": {},
   "source": [
    "# 6. Handling the Cold Start Problem"
   ]
  },
  {
   "cell_type": "markdown",
   "metadata": {},
   "source": [
    "A recommender system that relies on CF to make recommendations is heavily reliant on user-item matches in the utility matrix. This is a problem because when there is not enough data in the matrix, no recommendation can be made based on a match, creating what's called the **cold start problem**.\n",
    "\n",
    "To address this issue, we resort to content-based filtering to first gather data to fill our utility matrix with."
   ]
  },
  {
   "cell_type": "markdown",
   "metadata": {},
   "source": [
    "### Organize titles by item attributes (i.e. Genre)"
   ]
  },
  {
   "cell_type": "code",
   "execution_count": 14,
   "metadata": {},
   "outputs": [
    {
     "data": {
      "text/html": [
       "<div>\n",
       "<style scoped>\n",
       "    .dataframe tbody tr th:only-of-type {\n",
       "        vertical-align: middle;\n",
       "    }\n",
       "\n",
       "    .dataframe tbody tr th {\n",
       "        vertical-align: top;\n",
       "    }\n",
       "\n",
       "    .dataframe thead th {\n",
       "        text-align: right;\n",
       "    }\n",
       "</style>\n",
       "<table border=\"1\" class=\"dataframe\">\n",
       "  <thead>\n",
       "    <tr style=\"text-align: right;\">\n",
       "      <th></th>\n",
       "      <th>s</th>\n",
       "      <th>|</th>\n",
       "      <th>l</th>\n",
       "      <th>(</th>\n",
       "      <th>a</th>\n",
       "      <th>c</th>\n",
       "      <th>S</th>\n",
       "      <th>h</th>\n",
       "      <th>m</th>\n",
       "      <th>y</th>\n",
       "      <th>...</th>\n",
       "      <th>n</th>\n",
       "      <th>v</th>\n",
       "      <th>H</th>\n",
       "      <th>D</th>\n",
       "      <th>I</th>\n",
       "      <th>X</th>\n",
       "      <th>r</th>\n",
       "      <th>-</th>\n",
       "      <th>e</th>\n",
       "      <th>A</th>\n",
       "    </tr>\n",
       "  </thead>\n",
       "  <tbody>\n",
       "    <tr>\n",
       "      <th>0</th>\n",
       "      <td>1</td>\n",
       "      <td>1</td>\n",
       "      <td>1</td>\n",
       "      <td>0</td>\n",
       "      <td>1</td>\n",
       "      <td>0</td>\n",
       "      <td>0</td>\n",
       "      <td>1</td>\n",
       "      <td>1</td>\n",
       "      <td>1</td>\n",
       "      <td>...</td>\n",
       "      <td>1</td>\n",
       "      <td>1</td>\n",
       "      <td>0</td>\n",
       "      <td>0</td>\n",
       "      <td>0</td>\n",
       "      <td>0</td>\n",
       "      <td>1</td>\n",
       "      <td>0</td>\n",
       "      <td>1</td>\n",
       "      <td>1</td>\n",
       "    </tr>\n",
       "    <tr>\n",
       "      <th>1</th>\n",
       "      <td>1</td>\n",
       "      <td>1</td>\n",
       "      <td>1</td>\n",
       "      <td>0</td>\n",
       "      <td>1</td>\n",
       "      <td>0</td>\n",
       "      <td>0</td>\n",
       "      <td>1</td>\n",
       "      <td>0</td>\n",
       "      <td>1</td>\n",
       "      <td>...</td>\n",
       "      <td>1</td>\n",
       "      <td>1</td>\n",
       "      <td>0</td>\n",
       "      <td>0</td>\n",
       "      <td>0</td>\n",
       "      <td>0</td>\n",
       "      <td>1</td>\n",
       "      <td>0</td>\n",
       "      <td>1</td>\n",
       "      <td>1</td>\n",
       "    </tr>\n",
       "    <tr>\n",
       "      <th>2</th>\n",
       "      <td>0</td>\n",
       "      <td>1</td>\n",
       "      <td>0</td>\n",
       "      <td>0</td>\n",
       "      <td>1</td>\n",
       "      <td>1</td>\n",
       "      <td>0</td>\n",
       "      <td>0</td>\n",
       "      <td>1</td>\n",
       "      <td>1</td>\n",
       "      <td>...</td>\n",
       "      <td>1</td>\n",
       "      <td>0</td>\n",
       "      <td>0</td>\n",
       "      <td>0</td>\n",
       "      <td>0</td>\n",
       "      <td>0</td>\n",
       "      <td>0</td>\n",
       "      <td>0</td>\n",
       "      <td>1</td>\n",
       "      <td>0</td>\n",
       "    </tr>\n",
       "    <tr>\n",
       "      <th>3</th>\n",
       "      <td>0</td>\n",
       "      <td>1</td>\n",
       "      <td>0</td>\n",
       "      <td>0</td>\n",
       "      <td>1</td>\n",
       "      <td>1</td>\n",
       "      <td>0</td>\n",
       "      <td>0</td>\n",
       "      <td>1</td>\n",
       "      <td>1</td>\n",
       "      <td>...</td>\n",
       "      <td>1</td>\n",
       "      <td>0</td>\n",
       "      <td>0</td>\n",
       "      <td>1</td>\n",
       "      <td>0</td>\n",
       "      <td>0</td>\n",
       "      <td>1</td>\n",
       "      <td>0</td>\n",
       "      <td>1</td>\n",
       "      <td>0</td>\n",
       "    </tr>\n",
       "    <tr>\n",
       "      <th>4</th>\n",
       "      <td>0</td>\n",
       "      <td>0</td>\n",
       "      <td>0</td>\n",
       "      <td>0</td>\n",
       "      <td>0</td>\n",
       "      <td>0</td>\n",
       "      <td>0</td>\n",
       "      <td>0</td>\n",
       "      <td>1</td>\n",
       "      <td>1</td>\n",
       "      <td>...</td>\n",
       "      <td>0</td>\n",
       "      <td>0</td>\n",
       "      <td>0</td>\n",
       "      <td>0</td>\n",
       "      <td>0</td>\n",
       "      <td>0</td>\n",
       "      <td>0</td>\n",
       "      <td>0</td>\n",
       "      <td>1</td>\n",
       "      <td>0</td>\n",
       "    </tr>\n",
       "    <tr>\n",
       "      <th>...</th>\n",
       "      <td>...</td>\n",
       "      <td>...</td>\n",
       "      <td>...</td>\n",
       "      <td>...</td>\n",
       "      <td>...</td>\n",
       "      <td>...</td>\n",
       "      <td>...</td>\n",
       "      <td>...</td>\n",
       "      <td>...</td>\n",
       "      <td>...</td>\n",
       "      <td>...</td>\n",
       "      <td>...</td>\n",
       "      <td>...</td>\n",
       "      <td>...</td>\n",
       "      <td>...</td>\n",
       "      <td>...</td>\n",
       "      <td>...</td>\n",
       "      <td>...</td>\n",
       "      <td>...</td>\n",
       "      <td>...</td>\n",
       "      <td>...</td>\n",
       "    </tr>\n",
       "    <tr>\n",
       "      <th>9737</th>\n",
       "      <td>1</td>\n",
       "      <td>1</td>\n",
       "      <td>0</td>\n",
       "      <td>0</td>\n",
       "      <td>1</td>\n",
       "      <td>1</td>\n",
       "      <td>0</td>\n",
       "      <td>0</td>\n",
       "      <td>1</td>\n",
       "      <td>1</td>\n",
       "      <td>...</td>\n",
       "      <td>1</td>\n",
       "      <td>0</td>\n",
       "      <td>0</td>\n",
       "      <td>0</td>\n",
       "      <td>0</td>\n",
       "      <td>0</td>\n",
       "      <td>0</td>\n",
       "      <td>0</td>\n",
       "      <td>1</td>\n",
       "      <td>1</td>\n",
       "    </tr>\n",
       "    <tr>\n",
       "      <th>9738</th>\n",
       "      <td>1</td>\n",
       "      <td>1</td>\n",
       "      <td>0</td>\n",
       "      <td>0</td>\n",
       "      <td>1</td>\n",
       "      <td>0</td>\n",
       "      <td>0</td>\n",
       "      <td>0</td>\n",
       "      <td>1</td>\n",
       "      <td>1</td>\n",
       "      <td>...</td>\n",
       "      <td>1</td>\n",
       "      <td>0</td>\n",
       "      <td>0</td>\n",
       "      <td>0</td>\n",
       "      <td>0</td>\n",
       "      <td>0</td>\n",
       "      <td>0</td>\n",
       "      <td>0</td>\n",
       "      <td>1</td>\n",
       "      <td>1</td>\n",
       "    </tr>\n",
       "    <tr>\n",
       "      <th>9739</th>\n",
       "      <td>0</td>\n",
       "      <td>0</td>\n",
       "      <td>0</td>\n",
       "      <td>0</td>\n",
       "      <td>1</td>\n",
       "      <td>0</td>\n",
       "      <td>0</td>\n",
       "      <td>0</td>\n",
       "      <td>1</td>\n",
       "      <td>0</td>\n",
       "      <td>...</td>\n",
       "      <td>0</td>\n",
       "      <td>0</td>\n",
       "      <td>0</td>\n",
       "      <td>1</td>\n",
       "      <td>0</td>\n",
       "      <td>0</td>\n",
       "      <td>1</td>\n",
       "      <td>0</td>\n",
       "      <td>0</td>\n",
       "      <td>0</td>\n",
       "    </tr>\n",
       "    <tr>\n",
       "      <th>9740</th>\n",
       "      <td>0</td>\n",
       "      <td>1</td>\n",
       "      <td>0</td>\n",
       "      <td>0</td>\n",
       "      <td>1</td>\n",
       "      <td>1</td>\n",
       "      <td>0</td>\n",
       "      <td>0</td>\n",
       "      <td>1</td>\n",
       "      <td>0</td>\n",
       "      <td>...</td>\n",
       "      <td>1</td>\n",
       "      <td>0</td>\n",
       "      <td>0</td>\n",
       "      <td>0</td>\n",
       "      <td>0</td>\n",
       "      <td>0</td>\n",
       "      <td>0</td>\n",
       "      <td>0</td>\n",
       "      <td>0</td>\n",
       "      <td>1</td>\n",
       "    </tr>\n",
       "    <tr>\n",
       "      <th>9741</th>\n",
       "      <td>0</td>\n",
       "      <td>0</td>\n",
       "      <td>0</td>\n",
       "      <td>0</td>\n",
       "      <td>0</td>\n",
       "      <td>0</td>\n",
       "      <td>0</td>\n",
       "      <td>0</td>\n",
       "      <td>1</td>\n",
       "      <td>1</td>\n",
       "      <td>...</td>\n",
       "      <td>0</td>\n",
       "      <td>0</td>\n",
       "      <td>0</td>\n",
       "      <td>0</td>\n",
       "      <td>0</td>\n",
       "      <td>0</td>\n",
       "      <td>0</td>\n",
       "      <td>0</td>\n",
       "      <td>1</td>\n",
       "      <td>0</td>\n",
       "    </tr>\n",
       "  </tbody>\n",
       "</table>\n",
       "<p>9742 rows × 35 columns</p>\n",
       "</div>"
      ],
      "text/plain": [
       "      s  |  l  (  a  c  S  h  m  y  ...  n  v  H  D  I  X  r  -  e  A\n",
       "0     1  1  1  0  1  0  0  1  1  1  ...  1  1  0  0  0  0  1  0  1  1\n",
       "1     1  1  1  0  1  0  0  1  0  1  ...  1  1  0  0  0  0  1  0  1  1\n",
       "2     0  1  0  0  1  1  0  0  1  1  ...  1  0  0  0  0  0  0  0  1  0\n",
       "3     0  1  0  0  1  1  0  0  1  1  ...  1  0  0  1  0  0  1  0  1  0\n",
       "4     0  0  0  0  0  0  0  0  1  1  ...  0  0  0  0  0  0  0  0  1  0\n",
       "...  .. .. .. .. .. .. .. .. .. ..  ... .. .. .. .. .. .. .. .. .. ..\n",
       "9737  1  1  0  0  1  1  0  0  1  1  ...  1  0  0  0  0  0  0  0  1  1\n",
       "9738  1  1  0  0  1  0  0  0  1  1  ...  1  0  0  0  0  0  0  0  1  1\n",
       "9739  0  0  0  0  1  0  0  0  1  0  ...  0  0  0  1  0  0  1  0  0  0\n",
       "9740  0  1  0  0  1  1  0  0  1  0  ...  1  0  0  0  0  0  0  0  0  1\n",
       "9741  0  0  0  0  0  0  0  0  1  1  ...  0  0  0  0  0  0  0  0  1  0\n",
       "\n",
       "[9742 rows x 35 columns]"
      ]
     },
     "execution_count": 14,
     "metadata": {},
     "output_type": "execute_result"
    }
   ],
   "source": [
    "# extract genres from movies dataframe for flagging\n",
    "genres = set(g for genre in movies['genres'] for g in genre)\n",
    "\n",
    "# flag genres in movies dataframe\n",
    "for g in genres:\n",
    "    movies[g] = movies['genres'].transform(lambda x: int(g in x))\n",
    "\n",
    "# drop other columns\n",
    "movie_genres = movies.drop(columns=['movieId', 'title', 'genres'])\n",
    "\n",
    "movie_genres"
   ]
  },
  {
   "cell_type": "markdown",
   "metadata": {},
   "source": [
    "We have 19 unique genres with 1 category where no genre is listed. Next, we want to group genres by similarity. We can do that by finding the cosine similarity of genres in our movie_genres dataframe."
   ]
  },
  {
   "cell_type": "code",
   "execution_count": 15,
   "metadata": {},
   "outputs": [
    {
     "name": "stdout",
     "output_type": "stream",
     "text": [
      "Cosine similarity matrix shape: (9742, 9742) movies\n"
     ]
    },
    {
     "data": {
      "text/plain": [
       "array([[1.        , 0.9459053 , 0.62254302, ..., 0.3441236 , 0.61177529,\n",
       "        0.56195149],\n",
       "       [0.9459053 , 1.        , 0.5118907 , ..., 0.24253563, 0.48507125,\n",
       "        0.39605902],\n",
       "       [0.62254302, 0.5118907 , 1.        , ..., 0.30151134, 0.60302269,\n",
       "        0.73854895],\n",
       "       ...,\n",
       "       [0.3441236 , 0.24253563, 0.30151134, ..., 1.        , 0.33333333,\n",
       "        0.20412415],\n",
       "       [0.61177529, 0.48507125, 0.60302269, ..., 0.33333333, 1.        ,\n",
       "        0.27216553],\n",
       "       [0.56195149, 0.39605902, 0.73854895, ..., 0.20412415, 0.27216553,\n",
       "        1.        ]])"
      ]
     },
     "execution_count": 15,
     "metadata": {},
     "output_type": "execute_result"
    }
   ],
   "source": [
    "# pass cosine similarity function through movie_genres dataframe\n",
    "cosine_sim = cosine_similarity(movie_genres, movie_genres)\n",
    "\n",
    "print(f'Cosine similarity matrix shape: {cosine_sim.shape} movies')\n",
    "cosine_sim"
   ]
  },
  {
   "cell_type": "markdown",
   "metadata": {},
   "source": [
    "The result is a cosine similarity matrix containing values between 0 and 1 where values represent the degree of similarity between movies along the x and y axes."
   ]
  },
  {
   "cell_type": "markdown",
   "metadata": {},
   "source": [
    "### Create a movie finder function\n",
    "\n",
    "In case, we want to get recommendations for a specific movie, a movie finder function would be useful to let a user explore siimlar titles. The problem right now is the titles in our dataset are followed by dates (i.e. 'Toy Story (1995)'), meaning a user would have to type that whole string out just to find similar movies to Toy Story. \n",
    "\n",
    "To make the recommender system more user-friendly, fuzzywuzzy is a Python package that uses a string matching algorithm that finds the most similar string inputted."
   ]
  },
  {
   "cell_type": "code",
   "execution_count": 16,
   "metadata": {},
   "outputs": [],
   "source": [
    "# create movie finder function\n",
    "def movie_finder(title):\n",
    "    titles = movies['title'].to_list()\n",
    "    match = process.extractOne(title, titles)\n",
    "    return match[0]"
   ]
  },
  {
   "cell_type": "code",
   "execution_count": 17,
   "metadata": {},
   "outputs": [
    {
     "data": {
      "text/plain": [
       "'Toy Story (1995)'"
      ]
     },
     "execution_count": 17,
     "metadata": {},
     "output_type": "execute_result"
    }
   ],
   "source": [
    "# test movie finder function\n",
    "search_title = movie_finder('Toy Story')\n",
    "search_title"
   ]
  },
  {
   "cell_type": "markdown",
   "metadata": {},
   "source": [
    "Now that we can search for movies, we need a way to match that search to an index in the cosine similarity matrix. To do this, we create another index mapper. "
   ]
  },
  {
   "cell_type": "code",
   "execution_count": 18,
   "metadata": {},
   "outputs": [
    {
     "name": "stdout",
     "output_type": "stream",
     "text": [
      "You searched: Toy Story (1995) ID: 0\n"
     ]
    }
   ],
   "source": [
    "# create movie index mapper\n",
    "movie_idx = dict(zip(movies['title'], list(movies.index)))\n",
    "idx = movie_idx[search_title]\n",
    "print(f'You searched: {search_title} ID: {idx}')"
   ]
  },
  {
   "cell_type": "markdown",
   "metadata": {},
   "source": [
    "With an ID match, we can now recommend similar titles using content-filtering."
   ]
  },
  {
   "cell_type": "code",
   "execution_count": 19,
   "metadata": {},
   "outputs": [
    {
     "data": {
      "text/plain": [
       "[1357, 1505, 1577, 1706, 2355, 2539, 2809, 3000, 3230, 3336]"
      ]
     },
     "execution_count": 19,
     "metadata": {},
     "output_type": "execute_result"
    }
   ],
   "source": [
    "# set number of recommendations\n",
    "n_recommendations = 10\n",
    "\n",
    "# first, retrieve list of ids and scores from our cosine similarity matrix\n",
    "cos_sim_score = list(enumerate(cosine_sim[idx]))\n",
    "\n",
    "# sort this list by most similar\n",
    "cos_sim_score = sorted(cos_sim_score, key=lambda x: x[1], reverse=True)\n",
    "\n",
    "# reduce list to cap at n_recommendations\n",
    "cos_sim_score = cos_sim_score[1:(n_recommendations + 1)]\n",
    "\n",
    "# extract just the id from the resulting tuples\n",
    "similar_movies = [i[0] for i in cos_sim_score]\n",
    "\n",
    "similar_movies"
   ]
  },
  {
   "cell_type": "markdown",
   "metadata": {},
   "source": [
    "Finally, test our recommender by generating 10 similar movies to Toy Story."
   ]
  },
  {
   "cell_type": "code",
   "execution_count": 20,
   "metadata": {},
   "outputs": [
    {
     "name": "stdout",
     "output_type": "stream",
     "text": [
      "Because you watched: Toy Story (1995) \n",
      "1357                             Borrowers, The (1997)\n",
      "1505                        Black Cauldron, The (1985)\n",
      "1577                     Lord of the Rings, The (1978)\n",
      "1706                                       Antz (1998)\n",
      "2355                                Toy Story 2 (1999)\n",
      "2539             We're Back! A Dinosaur's Story (1993)\n",
      "2809    Adventures of Rocky and Bullwinkle, The (2000)\n",
      "3000                  Emperor's New Groove, The (2000)\n",
      "3230                  Atlantis: The Lost Empire (2001)\n",
      "3336                      Land Before Time, The (1988)\n",
      "Name: title, dtype: object\n"
     ]
    }
   ],
   "source": [
    "print(f'Because you watched: {search_title} \\n{movies.title.iloc[similar_movies]}')"
   ]
  },
  {
   "cell_type": "markdown",
   "metadata": {},
   "source": [
    "These titles all make for great family-friendly movies. We even have a sequel, Toy Story 2, and there are options to view more recently released movies."
   ]
  },
  {
   "cell_type": "markdown",
   "metadata": {},
   "source": [
    "To make things more streamlined, we will create a function that allows a user to search for a title and generate $n$ recommendations for that title."
   ]
  },
  {
   "cell_type": "code",
   "execution_count": 21,
   "metadata": {},
   "outputs": [],
   "source": [
    "def get_content_based_recommendations(title_string, n_recommendations=10):\n",
    "    '''\n",
    "    \n",
    "    FUNCTION: gets n recommendations via content-filtering based on a title string\n",
    "\n",
    "    ARGS:\n",
    "    title string - user inputted title string\n",
    "    n_recommendations - user set number of similar titles to be recommended\n",
    "\n",
    "    RETURNS:\n",
    "    list of similar titles\n",
    "    \n",
    "    '''\n",
    "\n",
    "    # match the user inputted title string with a title in the dataset and extract its id\n",
    "    title = movie_finder(title_string)\n",
    "    idx = movie_idx[title]\n",
    "\n",
    "    # match the id with the cosine similarity matrix\n",
    "    cos_sim_score = list(enumerate(cosine_sim[idx]))\n",
    "    cos_sim_score = sorted(cos_sim_score, key=lambda x: x[1], reverse=True)\n",
    "    cos_sim_score = cos_sim_score[1:(n_recommendations + 1)]\n",
    "\n",
    "    # list of similar movie ids\n",
    "    similar_movies = [i[0] for i in cos_sim_score]\n",
    "    \n",
    "    print(f'Because you watched {title}: \\n{movies.title.iloc[similar_movies]}')"
   ]
  },
  {
   "cell_type": "code",
   "execution_count": 22,
   "metadata": {},
   "outputs": [
    {
     "name": "stdout",
     "output_type": "stream",
     "text": [
      "Because you watched Toy Story (1995): \n",
      "1357                             Borrowers, The (1997)\n",
      "1505                        Black Cauldron, The (1985)\n",
      "1577                     Lord of the Rings, The (1978)\n",
      "1706                                       Antz (1998)\n",
      "2355                                Toy Story 2 (1999)\n",
      "2539             We're Back! A Dinosaur's Story (1993)\n",
      "2809    Adventures of Rocky and Bullwinkle, The (2000)\n",
      "3000                  Emperor's New Groove, The (2000)\n",
      "3230                  Atlantis: The Lost Empire (2001)\n",
      "3336                      Land Before Time, The (1988)\n",
      "Name: title, dtype: object\n"
     ]
    }
   ],
   "source": [
    "# test content-based recommender\n",
    "get_content_based_recommendations(\"Toy Story\", n_recommendations=10)"
   ]
  },
  {
   "cell_type": "markdown",
   "metadata": {},
   "source": [
    "# 7. Dimensionality Reduction with Matrix Factorization"
   ]
  },
  {
   "cell_type": "markdown",
   "metadata": {},
   "source": [
    "We can use Matrix Factorization (MF) to discover any latent features between users and titles, giving a more compact representation of user tastes and item attributes. MF is particularly relevant to sparse matrices because it can enhance the quality of recommendations by imputing missing values in the dataset.\n",
    "\n",
    "We can reduce our utility matrix into 2 factor matrices:\n",
    "$$X_{mn} \\approx P_{mk} \\times Q^{T}_{nk} = \\hat{X}$$\n",
    "\n",
    "\\begin{align*}\n",
    "(\\text{n\\_users}, \\text{k}) \\\\\n",
    "(\\text{k}, \\text{n\\_items})\n",
    "\\end{align*}\n",
    "\n",
    "We can use sklearn's TruncatedSVD to start dimensionality reduction."
   ]
  },
  {
   "cell_type": "code",
   "execution_count": 23,
   "metadata": {},
   "outputs": [
    {
     "name": "stdout",
     "output_type": "stream",
     "text": [
      "Item matrix with 9724 movies and 20 components\n"
     ]
    }
   ],
   "source": [
    "# set svd parameters\n",
    "svd = TruncatedSVD(n_components=20, n_iter=10)\n",
    "\n",
    "# create item matrix by fitting svd to the transposed utility matrix\n",
    "Q = svd.fit_transform(X.T)\n",
    "\n",
    "print(f'Item matrix with {Q.shape[0]} movies and {Q.shape[1]} components')"
   ]
  },
  {
   "cell_type": "markdown",
   "metadata": {},
   "source": [
    "Test compressed recommender system."
   ]
  },
  {
   "cell_type": "code",
   "execution_count": 24,
   "metadata": {},
   "outputs": [
    {
     "name": "stdout",
     "output_type": "stream",
     "text": [
      "Because you watched Toy Story (1995): \n",
      "586     Haunted World of Edward D. Wood Jr., The (1996)\n",
      "480                            Terminal Velocity (1994)\n",
      "588                        Great White Hype, The (1996)\n",
      "1073                               Jerry Maguire (1996)\n",
      "1270                  I Love You, I Love You Not (1996)\n",
      "356                        Age of Innocence, The (1993)\n",
      "1265                               Sliding Doors (1998)\n",
      "260                                    Quiz Show (1994)\n",
      "1197                       In the Company of Men (1997)\n",
      "Name: title, dtype: object\n"
     ]
    }
   ],
   "source": [
    "# set Toy Story movie id as 1 because our movie mapper doesn't start from 0\n",
    "movie_id = 1\n",
    "\n",
    "# return ids of similar movies\n",
    "similar_movies = rec_movies(movie_id, Q.T, movie_mapper, movie_inv_mapper, k=10, metric='cosine')\n",
    "\n",
    "# match id with movie title\n",
    "movie_title = movie_titles[movie_id]\n",
    "\n",
    "# recommend movies\n",
    "print(f'Because you watched {movie_title}: \\n{movies.title.iloc[similar_movies]}')"
   ]
  },
  {
   "cell_type": "markdown",
   "metadata": {},
   "source": [
    "These results are from our compressed kNN movie-factor matrix where we've reduced the number of dimensions to 20 latent features. The recommendations differ compared to the uncompressed version. This can be accounted for by increasing the n_components to an optimal setting that isn't too computationally complex and still returns relevant recommendations. "
   ]
  },
  {
   "cell_type": "markdown",
   "metadata": {},
   "source": [
    "### Evaluation Metrics\n",
    "\n",
    "- RMSE\n",
    "- Precision @K; Recall @K"
   ]
  }
 ],
 "metadata": {
  "kernelspec": {
   "display_name": "venv",
   "language": "python",
   "name": "python3"
  },
  "language_info": {
   "codemirror_mode": {
    "name": "ipython",
    "version": 3
   },
   "file_extension": ".py",
   "mimetype": "text/x-python",
   "name": "python",
   "nbconvert_exporter": "python",
   "pygments_lexer": "ipython3",
   "version": "3.11.3"
  }
 },
 "nbformat": 4,
 "nbformat_minor": 2
}
